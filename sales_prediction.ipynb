{
 "metadata": {
  "language_info": {
   "codemirror_mode": {
    "name": "ipython",
    "version": 3
   },
   "file_extension": ".py",
   "mimetype": "text/x-python",
   "name": "python",
   "nbconvert_exporter": "python",
   "pygments_lexer": "ipython3",
   "version": "3.8.5-final"
  },
  "orig_nbformat": 2,
  "kernelspec": {
   "name": "python38564bit677441fe86d948e799121cc4c8417e70",
   "display_name": "Python 3.8.5 64-bit"
  }
 },
 "nbformat": 4,
 "nbformat_minor": 2,
 "cells": [
  {
   "cell_type": "code",
   "execution_count": 1,
   "metadata": {},
   "outputs": [],
   "source": [
    "import time\n",
    "main_start = time.perf_counter()\n",
    "\n",
    "import multiprocessing\n",
    "import pandas as pd\n",
    "import numpy as np\n",
    "from datetime import datetime, date\n",
    "\n",
    "# from sklearn.model_selection import train_test_split\n",
    "\n",
    "# from sklearn.ensemble import RandomForestRegressor\n",
    "# from sklearn.metrics import mean_absolute_error\n",
    "# from sklearn.model_selection import GridSearchCV\n",
    "# from sklearn.tree import DecisionTreeClassifier\n",
    "# from sklearn.neighbors import KNeighborsClassifier\n",
    "# from sklearn.svm import SVC\n",
    "# from sklearn.linear_model import LogisticRegression\n"
   ]
  },
  {
   "cell_type": "code",
   "execution_count": 2,
   "metadata": {},
   "outputs": [],
   "source": [
    "# Read the data\n",
    "train = pd.read_csv('./sales_train.csv')\n",
    "test = pd.read_csv('./test.csv')\n",
    "submission = pd.read_csv('./sample_submission.csv')\n",
    "items = pd.read_csv('./items.csv')\n",
    "item_cats = pd.read_csv('./item_categories.csv')\n",
    "shops = pd.read_csv('./shops.csv')"
   ]
  },
  {
   "cell_type": "code",
   "execution_count": 3,
   "metadata": {},
   "outputs": [],
   "source": [
    "train = train.set_index('item_id').join(items.set_index('item_id')).drop('item_name', axis=1)#.reset_index()"
   ]
  },
  {
   "cell_type": "code",
   "execution_count": 4,
   "metadata": {},
   "outputs": [],
   "source": [
    "\n",
    "# start = time.perf_counter()\n",
    "\n",
    "# train['day']= np.array(train.date.apply(lambda x: datetime.strptime(x, '%d.%m.%Y').strftime('%d')), dtype=np.int8)\n",
    "# train['month']= train.date.apply(lambda x: datetime.strptime(x, '%d.%m.%Y').strftime('%m'))\n",
    "# train['year']= train.date.apply(lambda x: datetime.strptime(x, '%d.%m.%Y').strftime('%Y'))\n",
    "# finish = time.perf_counter()\n",
    "\n",
    "# print(f'Finished in {round(finish-start, 2)} second(s)')"
   ]
  },
  {
   "source": [
    "start = time.perf_counter()\n",
    "processes = []\n",
    "q = multiprocessing.Queue()\n",
    "types = ['d','m','y']\n",
    "\n",
    "def editDate(q,arg):\n",
    "    obj = np.array(train.date.apply(lambda x: datetime.strptime(x, '%d.%m.%Y').strftime('%'+arg)), dtype=np.int8)\n",
    "    q.put([arg,obj])\n",
    "\n",
    "for i in types:\n",
    "    process=multiprocessing.Process(target=editDate, args=[q,i])\n",
    "    process.start() \n",
    "    processes.append(process)\n",
    "\n",
    "for _ in types:\n",
    "    result = q.get()\n",
    "    train[result[0]]=result[1]\n",
    "\n",
    "for process in processes:\n",
    "    process.join()\n",
    "\n",
    "finish = time.perf_counter()\n",
    "\n",
    "print(f'Finished in {round(finish-start, 2)} second(s)')"
   ],
   "cell_type": "code",
   "metadata": {},
   "execution_count": 5,
   "outputs": [
    {
     "output_type": "stream",
     "name": "stdout",
     "text": [
      "Finished in 48.16 second(s)\n"
     ]
    }
   ]
  },
  {
   "cell_type": "code",
   "execution_count": 6,
   "metadata": {},
   "outputs": [
    {
     "output_type": "execute_result",
     "data": {
      "text/plain": [
       "               date  date_block_num  shop_id  item_price  item_cnt_day  \\\n",
       "item_id                                                                  \n",
       "0        01.09.2014              20       54        58.0           1.0   \n",
       "1        04.04.2014              15       55      4490.0           1.0   \n",
       "1        02.04.2014              15       55      4490.0           1.0   \n",
       "1        06.07.2014              18       55      4490.0           1.0   \n",
       "1        04.08.2014              19       55      4490.0           1.0   \n",
       "...             ...             ...      ...         ...           ...   \n",
       "22168    02.02.2013               1       42       799.0           1.0   \n",
       "22168    17.02.2013               1       16       799.0           1.0   \n",
       "22168    08.03.2013               2       43       798.5           1.0   \n",
       "22168    13.09.2013               8       12       799.0           1.0   \n",
       "22169    21.03.2014              14       25      4349.0           1.0   \n",
       "\n",
       "         item_category_id   d  m   y  \n",
       "item_id                               \n",
       "0                      40   1  9  14  \n",
       "1                      76   4  4  14  \n",
       "1                      76   2  4  14  \n",
       "1                      76   6  7  14  \n",
       "1                      76   4  8  14  \n",
       "...                   ...  .. ..  ..  \n",
       "22168                  62   2  2  13  \n",
       "22168                  62  17  2  13  \n",
       "22168                  62   8  3  13  \n",
       "22168                  62  13  9  13  \n",
       "22169                  69  21  3  14  \n",
       "\n",
       "[2935849 rows x 9 columns]"
      ],
      "text/html": "<div>\n<style scoped>\n    .dataframe tbody tr th:only-of-type {\n        vertical-align: middle;\n    }\n\n    .dataframe tbody tr th {\n        vertical-align: top;\n    }\n\n    .dataframe thead th {\n        text-align: right;\n    }\n</style>\n<table border=\"1\" class=\"dataframe\">\n  <thead>\n    <tr style=\"text-align: right;\">\n      <th></th>\n      <th>date</th>\n      <th>date_block_num</th>\n      <th>shop_id</th>\n      <th>item_price</th>\n      <th>item_cnt_day</th>\n      <th>item_category_id</th>\n      <th>d</th>\n      <th>m</th>\n      <th>y</th>\n    </tr>\n    <tr>\n      <th>item_id</th>\n      <th></th>\n      <th></th>\n      <th></th>\n      <th></th>\n      <th></th>\n      <th></th>\n      <th></th>\n      <th></th>\n      <th></th>\n    </tr>\n  </thead>\n  <tbody>\n    <tr>\n      <th>0</th>\n      <td>01.09.2014</td>\n      <td>20</td>\n      <td>54</td>\n      <td>58.0</td>\n      <td>1.0</td>\n      <td>40</td>\n      <td>1</td>\n      <td>9</td>\n      <td>14</td>\n    </tr>\n    <tr>\n      <th>1</th>\n      <td>04.04.2014</td>\n      <td>15</td>\n      <td>55</td>\n      <td>4490.0</td>\n      <td>1.0</td>\n      <td>76</td>\n      <td>4</td>\n      <td>4</td>\n      <td>14</td>\n    </tr>\n    <tr>\n      <th>1</th>\n      <td>02.04.2014</td>\n      <td>15</td>\n      <td>55</td>\n      <td>4490.0</td>\n      <td>1.0</td>\n      <td>76</td>\n      <td>2</td>\n      <td>4</td>\n      <td>14</td>\n    </tr>\n    <tr>\n      <th>1</th>\n      <td>06.07.2014</td>\n      <td>18</td>\n      <td>55</td>\n      <td>4490.0</td>\n      <td>1.0</td>\n      <td>76</td>\n      <td>6</td>\n      <td>7</td>\n      <td>14</td>\n    </tr>\n    <tr>\n      <th>1</th>\n      <td>04.08.2014</td>\n      <td>19</td>\n      <td>55</td>\n      <td>4490.0</td>\n      <td>1.0</td>\n      <td>76</td>\n      <td>4</td>\n      <td>8</td>\n      <td>14</td>\n    </tr>\n    <tr>\n      <th>...</th>\n      <td>...</td>\n      <td>...</td>\n      <td>...</td>\n      <td>...</td>\n      <td>...</td>\n      <td>...</td>\n      <td>...</td>\n      <td>...</td>\n      <td>...</td>\n    </tr>\n    <tr>\n      <th>22168</th>\n      <td>02.02.2013</td>\n      <td>1</td>\n      <td>42</td>\n      <td>799.0</td>\n      <td>1.0</td>\n      <td>62</td>\n      <td>2</td>\n      <td>2</td>\n      <td>13</td>\n    </tr>\n    <tr>\n      <th>22168</th>\n      <td>17.02.2013</td>\n      <td>1</td>\n      <td>16</td>\n      <td>799.0</td>\n      <td>1.0</td>\n      <td>62</td>\n      <td>17</td>\n      <td>2</td>\n      <td>13</td>\n    </tr>\n    <tr>\n      <th>22168</th>\n      <td>08.03.2013</td>\n      <td>2</td>\n      <td>43</td>\n      <td>798.5</td>\n      <td>1.0</td>\n      <td>62</td>\n      <td>8</td>\n      <td>3</td>\n      <td>13</td>\n    </tr>\n    <tr>\n      <th>22168</th>\n      <td>13.09.2013</td>\n      <td>8</td>\n      <td>12</td>\n      <td>799.0</td>\n      <td>1.0</td>\n      <td>62</td>\n      <td>13</td>\n      <td>9</td>\n      <td>13</td>\n    </tr>\n    <tr>\n      <th>22169</th>\n      <td>21.03.2014</td>\n      <td>14</td>\n      <td>25</td>\n      <td>4349.0</td>\n      <td>1.0</td>\n      <td>69</td>\n      <td>21</td>\n      <td>3</td>\n      <td>14</td>\n    </tr>\n  </tbody>\n</table>\n<p>2935849 rows × 9 columns</p>\n</div>"
     },
     "metadata": {},
     "execution_count": 6
    }
   ],
   "source": [
    "train"
   ]
  },
  {
   "cell_type": "code",
   "execution_count": 7,
   "metadata": {},
   "outputs": [],
   "source": [
    "y = train['item_cnt_day']\n",
    "train.drop(columns=['item_cnt_day', 'date'], axis=1, inplace=True)\n",
    "# Obtain target and predictors\n",
    "features = ['d','m', 'y', 'date_block_num','shop_id', 'item_price', 'item_category_id']"
   ]
  },
  {
   "cell_type": "code",
   "execution_count": 8,
   "metadata": {},
   "outputs": [
    {
     "output_type": "stream",
     "name": "stdout",
     "text": [
      "Finished in 51.2 second(s)\n"
     ]
    }
   ],
   "source": [
    "main_finish = time.perf_counter()\n",
    "\n",
    "print(f'Finished in {round(main_finish-main_start, 2)} second(s)')"
   ]
  }
 ]
}