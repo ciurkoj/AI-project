{
 "metadata": {
  "language_info": {
   "codemirror_mode": {
    "name": "ipython",
    "version": 3
   },
   "file_extension": ".py",
   "mimetype": "text/x-python",
   "name": "python",
   "nbconvert_exporter": "python",
   "pygments_lexer": "ipython3",
   "version": "3.8.5-final"
  },
  "orig_nbformat": 2,
  "kernelspec": {
   "name": "python38564bit677441fe86d948e799121cc4c8417e70",
   "display_name": "Python 3.8.5 64-bit"
  }
 },
 "nbformat": 4,
 "nbformat_minor": 2,
 "cells": [
  {
   "cell_type": "code",
   "execution_count": 4,
   "metadata": {},
   "outputs": [],
   "source": [
    "import pandas as pd\n",
    "import numpy as np\n",
    "from datetime import datetime, date\n",
    "\n",
    "# from sklearn.model_selection import train_test_split\n",
    "\n",
    "# from sklearn.ensemble import RandomForestRegressor\n",
    "# from sklearn.metrics import mean_absolute_error\n",
    "# from sklearn.model_selection import GridSearchCV\n",
    "# from sklearn.tree import DecisionTreeClassifier\n",
    "# from sklearn.neighbors import KNeighborsClassifier\n",
    "# from sklearn.svm import SVC\n",
    "# from sklearn.linear_model import LogisticRegression\n"
   ]
  },
  {
   "cell_type": "code",
   "execution_count": 5,
   "metadata": {},
   "outputs": [],
   "source": [
    "# Read the data\n",
    "train = pd.read_csv('./sales_train.csv')\n",
    "test = pd.read_csv('./test.csv')\n",
    "submission = pd.read_csv('./sample_submission.csv')\n",
    "items = pd.read_csv('./items.csv')\n",
    "item_cats = pd.read_csv('./item_categories.csv')\n",
    "shops = pd.read_csv('./shops.csv')"
   ]
  },
  {
   "cell_type": "code",
   "execution_count": 6,
   "metadata": {},
   "outputs": [
    {
     "output_type": "execute_result",
     "data": {
      "text/plain": [
       "         item_id        date  date_block_num  shop_id  item_price  \\\n",
       "0              0  01.09.2014              20       54        58.0   \n",
       "1              1  04.04.2014              15       55      4490.0   \n",
       "2              1  02.04.2014              15       55      4490.0   \n",
       "3              1  06.07.2014              18       55      4490.0   \n",
       "4              1  04.08.2014              19       55      4490.0   \n",
       "...          ...         ...             ...      ...         ...   \n",
       "2935844    22168  02.02.2013               1       42       799.0   \n",
       "2935845    22168  17.02.2013               1       16       799.0   \n",
       "2935846    22168  08.03.2013               2       43       798.5   \n",
       "2935847    22168  13.09.2013               8       12       799.0   \n",
       "2935848    22169  21.03.2014              14       25      4349.0   \n",
       "\n",
       "         item_cnt_day  item_category_id  \n",
       "0                 1.0                40  \n",
       "1                 1.0                76  \n",
       "2                 1.0                76  \n",
       "3                 1.0                76  \n",
       "4                 1.0                76  \n",
       "...               ...               ...  \n",
       "2935844           1.0                62  \n",
       "2935845           1.0                62  \n",
       "2935846           1.0                62  \n",
       "2935847           1.0                62  \n",
       "2935848           1.0                69  \n",
       "\n",
       "[2935849 rows x 7 columns]"
      ],
      "text/html": "<div>\n<style scoped>\n    .dataframe tbody tr th:only-of-type {\n        vertical-align: middle;\n    }\n\n    .dataframe tbody tr th {\n        vertical-align: top;\n    }\n\n    .dataframe thead th {\n        text-align: right;\n    }\n</style>\n<table border=\"1\" class=\"dataframe\">\n  <thead>\n    <tr style=\"text-align: right;\">\n      <th></th>\n      <th>item_id</th>\n      <th>date</th>\n      <th>date_block_num</th>\n      <th>shop_id</th>\n      <th>item_price</th>\n      <th>item_cnt_day</th>\n      <th>item_category_id</th>\n    </tr>\n  </thead>\n  <tbody>\n    <tr>\n      <th>0</th>\n      <td>0</td>\n      <td>01.09.2014</td>\n      <td>20</td>\n      <td>54</td>\n      <td>58.0</td>\n      <td>1.0</td>\n      <td>40</td>\n    </tr>\n    <tr>\n      <th>1</th>\n      <td>1</td>\n      <td>04.04.2014</td>\n      <td>15</td>\n      <td>55</td>\n      <td>4490.0</td>\n      <td>1.0</td>\n      <td>76</td>\n    </tr>\n    <tr>\n      <th>2</th>\n      <td>1</td>\n      <td>02.04.2014</td>\n      <td>15</td>\n      <td>55</td>\n      <td>4490.0</td>\n      <td>1.0</td>\n      <td>76</td>\n    </tr>\n    <tr>\n      <th>3</th>\n      <td>1</td>\n      <td>06.07.2014</td>\n      <td>18</td>\n      <td>55</td>\n      <td>4490.0</td>\n      <td>1.0</td>\n      <td>76</td>\n    </tr>\n    <tr>\n      <th>4</th>\n      <td>1</td>\n      <td>04.08.2014</td>\n      <td>19</td>\n      <td>55</td>\n      <td>4490.0</td>\n      <td>1.0</td>\n      <td>76</td>\n    </tr>\n    <tr>\n      <th>...</th>\n      <td>...</td>\n      <td>...</td>\n      <td>...</td>\n      <td>...</td>\n      <td>...</td>\n      <td>...</td>\n      <td>...</td>\n    </tr>\n    <tr>\n      <th>2935844</th>\n      <td>22168</td>\n      <td>02.02.2013</td>\n      <td>1</td>\n      <td>42</td>\n      <td>799.0</td>\n      <td>1.0</td>\n      <td>62</td>\n    </tr>\n    <tr>\n      <th>2935845</th>\n      <td>22168</td>\n      <td>17.02.2013</td>\n      <td>1</td>\n      <td>16</td>\n      <td>799.0</td>\n      <td>1.0</td>\n      <td>62</td>\n    </tr>\n    <tr>\n      <th>2935846</th>\n      <td>22168</td>\n      <td>08.03.2013</td>\n      <td>2</td>\n      <td>43</td>\n      <td>798.5</td>\n      <td>1.0</td>\n      <td>62</td>\n    </tr>\n    <tr>\n      <th>2935847</th>\n      <td>22168</td>\n      <td>13.09.2013</td>\n      <td>8</td>\n      <td>12</td>\n      <td>799.0</td>\n      <td>1.0</td>\n      <td>62</td>\n    </tr>\n    <tr>\n      <th>2935848</th>\n      <td>22169</td>\n      <td>21.03.2014</td>\n      <td>14</td>\n      <td>25</td>\n      <td>4349.0</td>\n      <td>1.0</td>\n      <td>69</td>\n    </tr>\n  </tbody>\n</table>\n<p>2935849 rows × 7 columns</p>\n</div>"
     },
     "metadata": {},
     "execution_count": 6
    }
   ],
   "source": [
    "train = train.set_index('item_id').join(items.set_index('item_id')).drop('item_name', axis=1).reset_index()\n",
    "train"
   ]
  },
  {
   "cell_type": "code",
   "execution_count": 7,
   "metadata": {},
   "outputs": [],
   "source": [
    "testFrame = pd.DataFrame(columns=['day','month','year'])"
   ]
  },
  {
   "cell_type": "code",
   "execution_count": 5,
   "metadata": {},
   "outputs": [
    {
     "output_type": "error",
     "ename": "KeyboardInterrupt",
     "evalue": "",
     "traceback": [
      "\u001b[0;31m---------------------------------------------------------------------------\u001b[0m",
      "\u001b[0;31mKeyboardInterrupt\u001b[0m                         Traceback (most recent call last)",
      "\u001b[0;32m<ipython-input-5-e2d2c0bbc586>\u001b[0m in \u001b[0;36m<module>\u001b[0;34m\u001b[0m\n\u001b[0;32m----> 1\u001b[0;31m \u001b[0mtestFrame\u001b[0m\u001b[0;34m[\u001b[0m\u001b[0;34m'day'\u001b[0m\u001b[0;34m]\u001b[0m\u001b[0;34m=\u001b[0m \u001b[0mnp\u001b[0m\u001b[0;34m.\u001b[0m\u001b[0marray\u001b[0m\u001b[0;34m(\u001b[0m\u001b[0mtrain\u001b[0m\u001b[0;34m.\u001b[0m\u001b[0mdate\u001b[0m\u001b[0;34m.\u001b[0m\u001b[0mapply\u001b[0m\u001b[0;34m(\u001b[0m\u001b[0;32mlambda\u001b[0m \u001b[0mx\u001b[0m\u001b[0;34m:\u001b[0m \u001b[0mdatetime\u001b[0m\u001b[0;34m.\u001b[0m\u001b[0mstrptime\u001b[0m\u001b[0;34m(\u001b[0m\u001b[0mx\u001b[0m\u001b[0;34m,\u001b[0m \u001b[0;34m'%d.%m.%Y'\u001b[0m\u001b[0;34m)\u001b[0m\u001b[0;34m.\u001b[0m\u001b[0mstrftime\u001b[0m\u001b[0;34m(\u001b[0m\u001b[0;34m'%d'\u001b[0m\u001b[0;34m)\u001b[0m\u001b[0;34m)\u001b[0m\u001b[0;34m,\u001b[0m \u001b[0mdtype\u001b[0m\u001b[0;34m=\u001b[0m\u001b[0mnp\u001b[0m\u001b[0;34m.\u001b[0m\u001b[0mint8\u001b[0m\u001b[0;34m)\u001b[0m\u001b[0;34m\u001b[0m\u001b[0;34m\u001b[0m\u001b[0m\n\u001b[0m",
      "\u001b[0;32m~/.local/lib/python3.8/site-packages/pandas/core/series.py\u001b[0m in \u001b[0;36mapply\u001b[0;34m(self, func, convert_dtype, args, **kwds)\u001b[0m\n\u001b[1;32m   4198\u001b[0m             \u001b[0;32melse\u001b[0m\u001b[0;34m:\u001b[0m\u001b[0;34m\u001b[0m\u001b[0;34m\u001b[0m\u001b[0m\n\u001b[1;32m   4199\u001b[0m                 \u001b[0mvalues\u001b[0m \u001b[0;34m=\u001b[0m \u001b[0mself\u001b[0m\u001b[0;34m.\u001b[0m\u001b[0mastype\u001b[0m\u001b[0;34m(\u001b[0m\u001b[0mobject\u001b[0m\u001b[0;34m)\u001b[0m\u001b[0;34m.\u001b[0m\u001b[0m_values\u001b[0m\u001b[0;34m\u001b[0m\u001b[0;34m\u001b[0m\u001b[0m\n\u001b[0;32m-> 4200\u001b[0;31m                 \u001b[0mmapped\u001b[0m \u001b[0;34m=\u001b[0m \u001b[0mlib\u001b[0m\u001b[0;34m.\u001b[0m\u001b[0mmap_infer\u001b[0m\u001b[0;34m(\u001b[0m\u001b[0mvalues\u001b[0m\u001b[0;34m,\u001b[0m \u001b[0mf\u001b[0m\u001b[0;34m,\u001b[0m \u001b[0mconvert\u001b[0m\u001b[0;34m=\u001b[0m\u001b[0mconvert_dtype\u001b[0m\u001b[0;34m)\u001b[0m\u001b[0;34m\u001b[0m\u001b[0;34m\u001b[0m\u001b[0m\n\u001b[0m\u001b[1;32m   4201\u001b[0m \u001b[0;34m\u001b[0m\u001b[0m\n\u001b[1;32m   4202\u001b[0m         \u001b[0;32mif\u001b[0m \u001b[0mlen\u001b[0m\u001b[0;34m(\u001b[0m\u001b[0mmapped\u001b[0m\u001b[0;34m)\u001b[0m \u001b[0;32mand\u001b[0m \u001b[0misinstance\u001b[0m\u001b[0;34m(\u001b[0m\u001b[0mmapped\u001b[0m\u001b[0;34m[\u001b[0m\u001b[0;36m0\u001b[0m\u001b[0;34m]\u001b[0m\u001b[0;34m,\u001b[0m \u001b[0mSeries\u001b[0m\u001b[0;34m)\u001b[0m\u001b[0;34m:\u001b[0m\u001b[0;34m\u001b[0m\u001b[0;34m\u001b[0m\u001b[0m\n",
      "\u001b[0;32mpandas/_libs/lib.pyx\u001b[0m in \u001b[0;36mpandas._libs.lib.map_infer\u001b[0;34m()\u001b[0m\n",
      "\u001b[0;32m<ipython-input-5-e2d2c0bbc586>\u001b[0m in \u001b[0;36m<lambda>\u001b[0;34m(x)\u001b[0m\n\u001b[0;32m----> 1\u001b[0;31m \u001b[0mtestFrame\u001b[0m\u001b[0;34m[\u001b[0m\u001b[0;34m'day'\u001b[0m\u001b[0;34m]\u001b[0m\u001b[0;34m=\u001b[0m \u001b[0mnp\u001b[0m\u001b[0;34m.\u001b[0m\u001b[0marray\u001b[0m\u001b[0;34m(\u001b[0m\u001b[0mtrain\u001b[0m\u001b[0;34m.\u001b[0m\u001b[0mdate\u001b[0m\u001b[0;34m.\u001b[0m\u001b[0mapply\u001b[0m\u001b[0;34m(\u001b[0m\u001b[0;32mlambda\u001b[0m \u001b[0mx\u001b[0m\u001b[0;34m:\u001b[0m \u001b[0mdatetime\u001b[0m\u001b[0;34m.\u001b[0m\u001b[0mstrptime\u001b[0m\u001b[0;34m(\u001b[0m\u001b[0mx\u001b[0m\u001b[0;34m,\u001b[0m \u001b[0;34m'%d.%m.%Y'\u001b[0m\u001b[0;34m)\u001b[0m\u001b[0;34m.\u001b[0m\u001b[0mstrftime\u001b[0m\u001b[0;34m(\u001b[0m\u001b[0;34m'%d'\u001b[0m\u001b[0;34m)\u001b[0m\u001b[0;34m)\u001b[0m\u001b[0;34m,\u001b[0m \u001b[0mdtype\u001b[0m\u001b[0;34m=\u001b[0m\u001b[0mnp\u001b[0m\u001b[0;34m.\u001b[0m\u001b[0mint8\u001b[0m\u001b[0;34m)\u001b[0m\u001b[0;34m\u001b[0m\u001b[0;34m\u001b[0m\u001b[0m\n\u001b[0m",
      "\u001b[0;32m/usr/lib/python3.8/_strptime.py\u001b[0m in \u001b[0;36m_strptime_datetime\u001b[0;34m(cls, data_string, format)\u001b[0m\n\u001b[1;32m    566\u001b[0m     \"\"\"Return a class cls instance based on the input string and the\n\u001b[1;32m    567\u001b[0m     format string.\"\"\"\n\u001b[0;32m--> 568\u001b[0;31m     \u001b[0mtt\u001b[0m\u001b[0;34m,\u001b[0m \u001b[0mfraction\u001b[0m\u001b[0;34m,\u001b[0m \u001b[0mgmtoff_fraction\u001b[0m \u001b[0;34m=\u001b[0m \u001b[0m_strptime\u001b[0m\u001b[0;34m(\u001b[0m\u001b[0mdata_string\u001b[0m\u001b[0;34m,\u001b[0m \u001b[0mformat\u001b[0m\u001b[0;34m)\u001b[0m\u001b[0;34m\u001b[0m\u001b[0;34m\u001b[0m\u001b[0m\n\u001b[0m\u001b[1;32m    569\u001b[0m     \u001b[0mtzname\u001b[0m\u001b[0;34m,\u001b[0m \u001b[0mgmtoff\u001b[0m \u001b[0;34m=\u001b[0m \u001b[0mtt\u001b[0m\u001b[0;34m[\u001b[0m\u001b[0;34m-\u001b[0m\u001b[0;36m2\u001b[0m\u001b[0;34m:\u001b[0m\u001b[0;34m]\u001b[0m\u001b[0;34m\u001b[0m\u001b[0;34m\u001b[0m\u001b[0m\n\u001b[1;32m    570\u001b[0m     \u001b[0margs\u001b[0m \u001b[0;34m=\u001b[0m \u001b[0mtt\u001b[0m\u001b[0;34m[\u001b[0m\u001b[0;34m:\u001b[0m\u001b[0;36m6\u001b[0m\u001b[0;34m]\u001b[0m \u001b[0;34m+\u001b[0m \u001b[0;34m(\u001b[0m\u001b[0mfraction\u001b[0m\u001b[0;34m,\u001b[0m\u001b[0;34m)\u001b[0m\u001b[0;34m\u001b[0m\u001b[0;34m\u001b[0m\u001b[0m\n",
      "\u001b[0;32m/usr/lib/python3.8/_strptime.py\u001b[0m in \u001b[0;36m_strptime\u001b[0;34m(data_string, format)\u001b[0m\n\u001b[1;32m    320\u001b[0m     \u001b[0;32mwith\u001b[0m \u001b[0m_cache_lock\u001b[0m\u001b[0;34m:\u001b[0m\u001b[0;34m\u001b[0m\u001b[0;34m\u001b[0m\u001b[0m\n\u001b[1;32m    321\u001b[0m         \u001b[0mlocale_time\u001b[0m \u001b[0;34m=\u001b[0m \u001b[0m_TimeRE_cache\u001b[0m\u001b[0;34m.\u001b[0m\u001b[0mlocale_time\u001b[0m\u001b[0;34m\u001b[0m\u001b[0;34m\u001b[0m\u001b[0m\n\u001b[0;32m--> 322\u001b[0;31m         if (_getlang() != locale_time.lang or\n\u001b[0m\u001b[1;32m    323\u001b[0m             \u001b[0mtime\u001b[0m\u001b[0;34m.\u001b[0m\u001b[0mtzname\u001b[0m \u001b[0;34m!=\u001b[0m \u001b[0mlocale_time\u001b[0m\u001b[0;34m.\u001b[0m\u001b[0mtzname\u001b[0m \u001b[0;32mor\u001b[0m\u001b[0;34m\u001b[0m\u001b[0;34m\u001b[0m\u001b[0m\n\u001b[1;32m    324\u001b[0m             time.daylight != locale_time.daylight):\n",
      "\u001b[0;32m/usr/lib/python3.8/_strptime.py\u001b[0m in \u001b[0;36m_getlang\u001b[0;34m()\u001b[0m\n\u001b[1;32m     24\u001b[0m \u001b[0m__all__\u001b[0m \u001b[0;34m=\u001b[0m \u001b[0;34m[\u001b[0m\u001b[0;34m]\u001b[0m\u001b[0;34m\u001b[0m\u001b[0;34m\u001b[0m\u001b[0m\n\u001b[1;32m     25\u001b[0m \u001b[0;34m\u001b[0m\u001b[0m\n\u001b[0;32m---> 26\u001b[0;31m \u001b[0;32mdef\u001b[0m \u001b[0m_getlang\u001b[0m\u001b[0;34m(\u001b[0m\u001b[0;34m)\u001b[0m\u001b[0;34m:\u001b[0m\u001b[0;34m\u001b[0m\u001b[0;34m\u001b[0m\u001b[0m\n\u001b[0m\u001b[1;32m     27\u001b[0m     \u001b[0;31m# Figure out what the current language is set to.\u001b[0m\u001b[0;34m\u001b[0m\u001b[0;34m\u001b[0m\u001b[0;34m\u001b[0m\u001b[0m\n\u001b[1;32m     28\u001b[0m     \u001b[0;32mreturn\u001b[0m \u001b[0mlocale\u001b[0m\u001b[0;34m.\u001b[0m\u001b[0mgetlocale\u001b[0m\u001b[0;34m(\u001b[0m\u001b[0mlocale\u001b[0m\u001b[0;34m.\u001b[0m\u001b[0mLC_TIME\u001b[0m\u001b[0;34m)\u001b[0m\u001b[0;34m\u001b[0m\u001b[0;34m\u001b[0m\u001b[0m\n",
      "\u001b[0;31mKeyboardInterrupt\u001b[0m: "
     ]
    }
   ],
   "source": [
    "testFrame['day']= np.array(train.date.apply(lambda x: datetime.strptime(x, '%d.%m.%Y').strftime('%d')), dtype=np.int8)"
   ]
  },
  {
   "cell_type": "code",
   "execution_count": 10,
   "metadata": {},
   "outputs": [
    {
     "output_type": "execute_result",
     "data": {
      "text/plain": [
       "         day  month  year\n",
       "0          9      1    14\n",
       "1          4      4    14\n",
       "2          4      2    14\n",
       "3          7      6    14\n",
       "4          8      4    14\n",
       "...      ...    ...   ...\n",
       "2935844    2      2    13\n",
       "2935845    2     17    13\n",
       "2935846    3      8    13\n",
       "2935847    9     13    13\n",
       "2935848    3     21    14\n",
       "\n",
       "[2935849 rows x 3 columns]"
      ],
      "text/html": "<div>\n<style scoped>\n    .dataframe tbody tr th:only-of-type {\n        vertical-align: middle;\n    }\n\n    .dataframe tbody tr th {\n        vertical-align: top;\n    }\n\n    .dataframe thead th {\n        text-align: right;\n    }\n</style>\n<table border=\"1\" class=\"dataframe\">\n  <thead>\n    <tr style=\"text-align: right;\">\n      <th></th>\n      <th>day</th>\n      <th>month</th>\n      <th>year</th>\n    </tr>\n  </thead>\n  <tbody>\n    <tr>\n      <th>0</th>\n      <td>9</td>\n      <td>1</td>\n      <td>14</td>\n    </tr>\n    <tr>\n      <th>1</th>\n      <td>4</td>\n      <td>4</td>\n      <td>14</td>\n    </tr>\n    <tr>\n      <th>2</th>\n      <td>4</td>\n      <td>2</td>\n      <td>14</td>\n    </tr>\n    <tr>\n      <th>3</th>\n      <td>7</td>\n      <td>6</td>\n      <td>14</td>\n    </tr>\n    <tr>\n      <th>4</th>\n      <td>8</td>\n      <td>4</td>\n      <td>14</td>\n    </tr>\n    <tr>\n      <th>...</th>\n      <td>...</td>\n      <td>...</td>\n      <td>...</td>\n    </tr>\n    <tr>\n      <th>2935844</th>\n      <td>2</td>\n      <td>2</td>\n      <td>13</td>\n    </tr>\n    <tr>\n      <th>2935845</th>\n      <td>2</td>\n      <td>17</td>\n      <td>13</td>\n    </tr>\n    <tr>\n      <th>2935846</th>\n      <td>3</td>\n      <td>8</td>\n      <td>13</td>\n    </tr>\n    <tr>\n      <th>2935847</th>\n      <td>9</td>\n      <td>13</td>\n      <td>13</td>\n    </tr>\n    <tr>\n      <th>2935848</th>\n      <td>3</td>\n      <td>21</td>\n      <td>14</td>\n    </tr>\n  </tbody>\n</table>\n<p>2935849 rows × 3 columns</p>\n</div>"
     },
     "metadata": {},
     "execution_count": 10
    }
   ],
   "source": [
    "testFrame"
   ]
  },
  {
   "cell_type": "code",
   "execution_count": 21,
   "metadata": {},
   "outputs": [
    {
     "output_type": "stream",
     "name": "stdout",
     "text": [
      "Finished in 107.52 second(s)\n"
     ]
    }
   ],
   "source": [
    "\n",
    "start = time.perf_counter()\n",
    "\n",
    "train['day']= np.array(train.date.apply(lambda x: datetime.strptime(x, '%d.%m.%Y').strftime('%d')), dtype=np.int8)\n",
    "train['month']= train.date.apply(lambda x: datetime.strptime(x, '%d.%m.%Y').strftime('%m'))\n",
    "train['year']= train.date.apply(lambda x: datetime.strptime(x, '%d.%m.%Y').strftime('%Y'))\n",
    "finish = time.perf_counter()\n",
    "\n",
    "print(f'Finished in {round(finish-start, 2)} second(s)')"
   ]
  },
  {
   "source": [
    "import multiprocessing\n",
    "import time\n",
    "start = time.perf_counter()\n",
    "processes = []\n",
    "q = multiprocessing.Queue()\n",
    "types = {'day':'d','month':'m','year':'y'}\n",
    "# types = ['d']#,'m','y']\n",
    "results=[]\n",
    "def editDate(q,arg):\n",
    "    print(arg)\n",
    "    obj = np.array(train.date.apply(lambda x: datetime.strptime(x, '%d.%m.%Y').strftime('%'+arg)), dtype=np.int8)\n",
    "    q.put([arg,obj])\n",
    "    # q.put(obj)\n",
    "# def editDay(q):\n",
    "#     day = train.date.apply(lambda x: datetime.strptime(x, '%d.%m.%Y').strftime('%d'))\n",
    "#     q.put(day)\n",
    "# def editMonth(q):\n",
    "#     month = train.date.apply(lambda x: datetime.strptime(x, '%d.%m.%Y').strftime('%m'))\n",
    "#     q.put(month)\n",
    "# def editYear():\n",
    "#     year = train.date.apply(lambda x: datetime.strptime(x, '%d.%m.%Y').strftime('%Y'))\n",
    "#     return year\n",
    "\n",
    "for i in types:\n",
    "    # process=multiprocessing.Process(target=editDate, args=[q,i])\n",
    "    process=multiprocessing.Process(target=editDate, args=[q,types[i]])\n",
    "    print(i, process,\"\\n\" )\n",
    "    process.start() \n",
    "    processes.append(process)\n",
    "for key in types.keys():\n",
    "    # testFrame[key]=q.get()\n",
    "    print(q.get())\n",
    "print(len(processes))\n",
    "for process in processes:\n",
    "    process.join()\n",
    "\n",
    "finish = time.perf_counter()\n",
    "\n",
    "print(f'Finished in {round(finish-start, 2)} second(s)')"
   ],
   "cell_type": "code",
   "metadata": {},
   "execution_count": 9,
   "outputs": [
    {
     "output_type": "stream",
     "name": "stdout",
     "text": [
      "day <Process name='Process-1' parent=11869 initial> \n",
      "\n",
      "month <Process name='Process-2' parent=11869 initial> \n",
      "\n",
      "dyear <Process name='Process-3' parent=11869 initial> \n",
      "\n",
      "m\n",
      "\n",
      "y\n",
      "3\n",
      "Finished in 46.05 second(s)\n"
     ]
    }
   ]
  },
  {
   "cell_type": "code",
   "execution_count": null,
   "metadata": {},
   "outputs": [],
   "source": [
    "train['month'] = train.date.apply(lambda x: datetime.strptime(x, '%d.%m.%Y').strftime('%m'))\n",
    "train['year'] = train.date.apply(lambda x: datetime.strptime(x, '%d.%m.%Y').strftime('%Y'))\n",
    "y = train['item_cnt_day']\n",
    "train.drop(columns=['item_cnt_day', 'date'], axis=1, inplace=True)\n",
    "# Obtain target and predictors\n",
    "features = ['month', 'year', 'date_block_num','shop_id', 'item_price', 'item_category_id']"
   ]
  },
  {
   "cell_type": "code",
   "execution_count": null,
   "metadata": {},
   "outputs": [],
   "source": []
  }
 ]
}